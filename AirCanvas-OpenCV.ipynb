{
 "cells": [
  {
   "cell_type": "code",
   "execution_count": null,
   "id": "e1bdb811-723b-4f26-a7e4-f302b91c6da6",
   "metadata": {},
   "outputs": [],
   "source": [
    "# Import necessary packages.\n",
    "import cv2\n",
    "import numpy as np"
   ]
  },
  {
   "cell_type": "markdown",
   "id": "06ec19bb-3802-4990-89f0-5de6b98ebf10",
   "metadata": {},
   "source": [
    "Reading frames from a webcam"
   ]
  },
  {
   "cell_type": "code",
   "execution_count": null,
   "id": "807ecac4-91ac-4447-95c9-2cd11c9bda16",
   "metadata": {},
   "outputs": [],
   "source": [
    "# Create videocapture object\n",
    "cap = cv2.VideoCapture(0)\n",
    "\n",
    "while True:\n",
    "    # Read each frame from webcam\n",
    "    success, frame = cap.read()\n",
    "\n",
    "    # Flip the frame\n",
    "    frame = cv2.flip(frame, 1)\n",
    "\n",
    "    cv2.imshow(\"Frame\", frame)\n",
    "\n",
    "    # Open the OpenCV window until 'q' is pressed\n",
    "    if cv2.waitKey(1) == ord('q'):\n",
    "        break\n",
    "\n",
    "cap.release()\n",
    "cv2.destroyAllWindows()"
   ]
  },
  {
   "cell_type": "markdown",
   "id": "662fc4d8-6d65-498c-8e57-0dcea1bd1b0c",
   "metadata": {},
   "source": [
    "Create the canvas window"
   ]
  },
  {
   "cell_type": "code",
   "execution_count": null,
   "id": "60d4690a-d79e-4614-9f5a-7bd0fb86f7f9",
   "metadata": {},
   "outputs": [],
   "source": [
    "# Define various colors\n",
    "colors = [(255, 0, 0), (255, 0, 255), (0, 255, 0), (0, 0, 255), (0, 255, 255)]\n",
    "color = colors[0]"
   ]
  },
  {
   "cell_type": "code",
   "execution_count": null,
   "id": "a33800ad-c7fe-413d-8a71-9c93f1517c48",
   "metadata": {},
   "outputs": [],
   "source": [
    "width = int(cap.get(3))\n",
    "height = int(cap.get(4))\n",
    "\n",
    "# Create a blank canvas \n",
    "canvas = np.zeros((height, width, 3), np.uint8)"
   ]
  },
  {
   "cell_type": "code",
   "execution_count": null,
   "id": "d080918d-a129-4cf3-9b24-5f14a8b86830",
   "metadata": {},
   "outputs": [],
   "source": [
    "# Adding the colour buttons to the live frame for colour access\n",
    "    cv2.rectangle(frame, (20,1), (120,65), (122,122,122), -1)\n",
    "    cv2.rectangle(frame, (140,1), (220,65), colors[0], -1)\n",
    "    cv2.rectangle(frame, (240,1), (320,65), colors[1], -1)\n",
    "    cv2.rectangle(frame, (340,1), (420,65), colors[2], -1)\n",
    "    cv2.rectangle(frame, (440,1), (520,65), colors[3], -1)\n",
    "    cv2.rectangle(frame, (540,1), (620,65), colors[4], -1)\n",
    "    cv2.putText(frame, \"CLEAR ALL\", (30, 33), cv2.FONT_HERSHEY_SIMPLEX, 0.5, \n",
    "(255, 255, 255), 2, cv2.LINE_AA)\n",
    "    cv2.putText(frame, \"BLUE\", (155, 33), cv2.FONT_HERSHEY_SIMPLEX, 0.5,\n",
    " (255, 255, 255), 2, cv2.LINE_AA)\n",
    "    cv2.putText(frame, \"VIOLET\", (255, 33), cv2.FONT_HERSHEY_SIMPLEX, 0.5,\n",
    " (255,255, 255), 2, cv2.LINE_AA)\n",
    "    cv2.putText(frame, \"GREEN\", (355, 33), cv2.FONT_HERSHEY_SIMPLEX, 0.5, \n",
    "(255, 255, 255), 2, cv2.LINE_AA)\n",
    "    cv2.putText(frame, \"RED\", (465, 33), cv2.FONT_HERSHEY_SIMPLEX, 0.5,\n",
    "                             (255, 255, 255), 2, cv2.LINE_AA)\n",
    "    cv2.putText(frame, \"YELLOW\", (555, 33), cv2.FONT_HERSHEY_SIMPLEX, 0.5, \n",
    "(255,255,255), 2, cv2.LINE_AA)"
   ]
  },
  {
   "cell_type": "markdown",
   "id": "6f3943c1-a007-4fd2-9c59-121c1a7059f5",
   "metadata": {},
   "source": [
    "Detect the green colour"
   ]
  },
  {
   "cell_type": "code",
   "execution_count": null,
   "id": "885ea62d-8b3b-4fd1-b281-4cf0e2715541",
   "metadata": {},
   "outputs": [],
   "source": [
    "# Color range for detecting green color\n",
    "   lower_bound = np.array([50,100,100])\n",
    "   upper_bound = np.array([90,255,255])\n",
    "\n",
    "     # Convert the frame BGR to HSV color space\n",
    "   hsv = cv2.cvtColor(frame, cv2.COLOR_BGR2HSV)\n",
    "   \n",
    "   # Create a binary segmented mask of green color\n",
    "   mask = cv2.inRange(hsv, lower_bound, upper_bound)\n",
    "\n",
    "   # Add some dialation to increase segmented area\n",
    "   mask = cv2.dilate(mask, kernel, iterations=1)"
   ]
  },
  {
   "cell_type": "code",
   "execution_count": null,
   "id": "529d8a6f-7b32-4297-8154-e6d247f03253",
   "metadata": {},
   "outputs": [],
   "source": [
    " # Find all the contours of the segmented mask\n",
    "    contours, h    = cv2.findContours(mask, cv2.RETR_TREE, \n",
    "cv2.CHAIN_APPROX_SIMPLE)"
   ]
  },
  {
   "cell_type": "code",
   "execution_count": null,
   "id": "06f1751e-efa6-4156-9116-1f8ef373ec64",
   "metadata": {},
   "outputs": [],
   "source": [
    "# Checking if any contour is detected then run the following statements\n",
    "    if len(contours) > 0:\n",
    "        \n",
    "        # Get the biggest contour from all the detected contours\n",
    "        cmax = max(contours, key = cv2.contourArea)\n",
    "\n",
    "    else:\n",
    "        previous_center_point= 0"
   ]
  },
  {
   "cell_type": "code",
   "execution_count": null,
   "id": "b1529d82-025c-40d3-a3f1-5aa5ab5a2cfc",
   "metadata": {},
   "outputs": [],
   "source": [
    "# Find the area of the contour\n",
    "        area = cv2.contourArea(cmax)"
   ]
  },
  {
   "cell_type": "code",
   "execution_count": null,
   "id": "e96802b3-d68c-447c-a270-59a7b6b142d0",
   "metadata": {},
   "outputs": [],
   "source": [
    "min_area = 1000\n",
    "          # Checking if the area of the contour is greater than a threshold\n",
    "        if area > min_area:\n",
    "\n",
    "            # Find center point of the contour\n",
    "            M = cv2.moments(cmax)\n",
    "            cX = int(M[\"m10\"] / M[\"m00\"])\n",
    "            cY = int(M[\"m01\"] / M[\"m00\"])\n",
    "            \n",
    "            # Drawing a circle in the center of the contour area\n",
    "            cv2.circle(frame, (cX, cY), 10, (0, 0, 255), 2)"
   ]
  },
  {
   "cell_type": "markdown",
   "id": "1d203b26-a0c7-440a-8de8-f56de3901538",
   "metadata": {},
   "source": [
    "Draw on the canvas"
   ]
  },
  {
   "cell_type": "code",
   "execution_count": null,
   "id": "504a0c46-a33b-4264-a837-e3e95c48b541",
   "metadata": {},
   "outputs": [],
   "source": [
    "# Selecting the color for drawing in the canvas\n",
    "            if previous_center_point== 0:\n",
    "                if cY < 65:\n",
    "                    # Clear all\n",
    "                    if cX > 20 and cX < 120:\n",
    "                        canvas = np.zeros((height, width, 3), np.uint8)\n",
    "                    \n",
    "                    elif cX > 140 and cX < 220:\n",
    "                        color = colors[0]\n",
    "\n",
    "                    elif cX > 240 and cX < 320:\n",
    "                        color = colors[1]\n",
    "                    \n",
    "                    elif cX > 340 and cX < 420:\n",
    "                        color = colors[2]\n",
    "                    \n",
    "                    elif cX > 440 and cX < 520:\n",
    "                        color = colors[3]\n",
    "                    \n",
    "                    elif cX > 540 and cX < 620:\n",
    "                        color = colors[4]"
   ]
  },
  {
   "cell_type": "code",
   "execution_count": null,
   "id": "141388d7-3d43-4db1-819a-ac89c5abd78a",
   "metadata": {},
   "outputs": [],
   "source": [
    "# If drawing is started then draw a line between each frames detected contour \n",
    "#  center point\n",
    "            if previous_center_point!= 0:\n",
    "                cv2.line(canvas, previous_center_point, (cX, cY), color, 2)\n",
    "\n",
    "            # Update the center point\n",
    "            previous_center_point= (cX, cY)"
   ]
  },
  {
   "cell_type": "code",
   "execution_count": null,
   "id": "9953214b-cb9e-40e4-a0f9-5dec04bca34f",
   "metadata": {},
   "outputs": [],
   "source": [
    "# Adding the canvas mask to the original frame\n",
    "            canvas_gray = cv2.cvtColor(canvas, cv2.COLOR_BGR2GRAY)\n",
    "\n",
    "            _, canvas_binary = cv2.threshold(canvas_gray, 20, 255,\n",
    " cv2.THRESH_BINARY_INV)\n",
    "\n",
    "            canvas_binary = cv2.cvtColor(canvas_binary, cv2.COLOR_GRAY2BGR)\n",
    "\n",
    "            frame = cv2.bitwise_and(frame, canvas_binary)\n",
    "            frame = cv2.bitwise_or(frame, canvas)"
   ]
  }
 ],
 "metadata": {
  "kernelspec": {
   "display_name": "Python [conda env:base] *",
   "language": "python",
   "name": "conda-base-py"
  },
  "language_info": {
   "codemirror_mode": {
    "name": "ipython",
    "version": 3
   },
   "file_extension": ".py",
   "mimetype": "text/x-python",
   "name": "python",
   "nbconvert_exporter": "python",
   "pygments_lexer": "ipython3",
   "version": "3.13.5"
  }
 },
 "nbformat": 4,
 "nbformat_minor": 5
}
